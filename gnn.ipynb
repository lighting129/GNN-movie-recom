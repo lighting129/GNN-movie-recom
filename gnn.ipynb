{
 "cells": [
  {
   "cell_type": "code",
   "execution_count": 1,
   "metadata": {},
   "outputs": [
    {
     "name": "stdout",
     "output_type": "stream",
     "text": [
      "Intel MKL WARNING: Support of Intel(R) Streaming SIMD Extensions 4.2 (Intel(R) SSE4.2) enabled only processors has been deprecated. Intel oneAPI Math Kernel Library 2025.0 will require Intel(R) Advanced Vector Extensions (Intel(R) AVX) instructions.\n",
      "Intel MKL WARNING: Support of Intel(R) Streaming SIMD Extensions 4.2 (Intel(R) SSE4.2) enabled only processors has been deprecated. Intel oneAPI Math Kernel Library 2025.0 will require Intel(R) Advanced Vector Extensions (Intel(R) AVX) instructions.\n"
     ]
    }
   ],
   "source": [
    "import numpy as np\n",
    "import pandas as pd"
   ]
  },
  {
   "cell_type": "code",
   "execution_count": 2,
   "metadata": {},
   "outputs": [],
   "source": [
    "import torch"
   ]
  },
  {
   "cell_type": "code",
   "execution_count": 3,
   "metadata": {},
   "outputs": [
    {
     "name": "stderr",
     "output_type": "stream",
     "text": [
      "/Users/devrajjajoo/anaconda3/envs/pytorch/lib/python3.12/site-packages/tqdm/auto.py:21: TqdmWarning: IProgress not found. Please update jupyter and ipywidgets. See https://ipywidgets.readthedocs.io/en/stable/user_install.html\n",
      "  from .autonotebook import tqdm as notebook_tqdm\n"
     ]
    }
   ],
   "source": [
    "import torch.nn.functional as F\n",
    "from torch_geometric.nn import GCNConv\n",
    "from torch_geometric.data import Data\n",
    "from sklearn.feature_extraction.text import TfidfVectorizer"
   ]
  },
  {
   "cell_type": "code",
   "execution_count": 4,
   "metadata": {},
   "outputs": [
    {
     "name": "stdout",
     "output_type": "stream",
     "text": [
      "MPS backend is available!\n"
     ]
    }
   ],
   "source": [
    "import torch\n",
    "\n",
    "if torch.backends.mps.is_available():\n",
    "    print(\"MPS backend is available!\")\n",
    "else:\n",
    "    print(\"MPS backend is not available.\")"
   ]
  },
  {
   "cell_type": "code",
   "execution_count": 5,
   "metadata": {},
   "outputs": [],
   "source": [
    "data = pd.read_csv(\"Movies_Reviews_modified_version1.csv\")"
   ]
  },
  {
   "cell_type": "code",
   "execution_count": 6,
   "metadata": {},
   "outputs": [],
   "source": [
    "# Define emotion mapping\n",
    "emotion_dict = {\n",
    "    0: \"Angry\",        # maps to anger\n",
    "    1: \"Disgusted\",    # maps to disgust\n",
    "    2: \"Fearful\",      # maps to fear\n",
    "    3: \"Happy\",        # maps to joy\n",
    "    4: \"Neutral\",      # Removed\n",
    "    5: \"Sad\",          # maps to sadness\n",
    "    6: \"Surprised\"     # maps to surprise\n",
    "}\n",
    "\n",
    "# Mapping dataset emotions to emotion_dict\n",
    "emotion_mapping = {\n",
    "    'sadness': 5,       # maps to Sad\n",
    "    'disgust': 1,       # maps to Disgusted\n",
    "    'joy': 3,           # maps to Happy\n",
    "    'fear': 2,          # maps to Fearful\n",
    "    'anger': 0,         # maps to Angry\n",
    "    'surprise': 6       # maps to Surprised\n",
    "}"
   ]
  },
  {
   "cell_type": "code",
   "execution_count": 7,
   "metadata": {},
   "outputs": [
    {
     "data": {
      "text/html": [
       "<div>\n",
       "<style scoped>\n",
       "    .dataframe tbody tr th:only-of-type {\n",
       "        vertical-align: middle;\n",
       "    }\n",
       "\n",
       "    .dataframe tbody tr th {\n",
       "        vertical-align: top;\n",
       "    }\n",
       "\n",
       "    .dataframe thead th {\n",
       "        text-align: right;\n",
       "    }\n",
       "</style>\n",
       "<table border=\"1\" class=\"dataframe\">\n",
       "  <thead>\n",
       "    <tr style=\"text-align: right;\">\n",
       "      <th></th>\n",
       "      <th>Unnamed: 0</th>\n",
       "      <th>Ratings</th>\n",
       "      <th>Reviews</th>\n",
       "      <th>movie_name</th>\n",
       "      <th>Resenhas</th>\n",
       "      <th>genres</th>\n",
       "      <th>Description</th>\n",
       "      <th>emotion</th>\n",
       "    </tr>\n",
       "  </thead>\n",
       "  <tbody>\n",
       "    <tr>\n",
       "      <th>0</th>\n",
       "      <td>0</td>\n",
       "      <td>3.0</td>\n",
       "      <td>It had some laughs, but overall the motivation...</td>\n",
       "      <td>Waiting to Exhale</td>\n",
       "      <td>Riu algumas risadas, mas no geral a motivação ...</td>\n",
       "      <td>['Comedy', 'Drama', 'Romance']</td>\n",
       "      <td>Based on Terry McMillan's novel, this film fol...</td>\n",
       "      <td>anticipation</td>\n",
       "    </tr>\n",
       "    <tr>\n",
       "      <th>1</th>\n",
       "      <td>1</td>\n",
       "      <td>4.0</td>\n",
       "      <td>WAITING TO EXHALE Waiting, and waiting, and wa...</td>\n",
       "      <td>Waiting to Exhale</td>\n",
       "      <td>ESPERANDO PARA EXALAR Esperando, e esperando, ...</td>\n",
       "      <td>['Comedy', 'Drama', 'Romance']</td>\n",
       "      <td>Based on Terry McMillan's novel, this film fol...</td>\n",
       "      <td>anticipation</td>\n",
       "    </tr>\n",
       "    <tr>\n",
       "      <th>2</th>\n",
       "      <td>2</td>\n",
       "      <td>4.0</td>\n",
       "      <td>Angela Basset was good as expected, but Whitne...</td>\n",
       "      <td>Waiting to Exhale</td>\n",
       "      <td>Angela Basset foi boa como o esperado, mas Whi...</td>\n",
       "      <td>['Comedy', 'Drama', 'Romance']</td>\n",
       "      <td>Based on Terry McMillan's novel, this film fol...</td>\n",
       "      <td>anticipation</td>\n",
       "    </tr>\n",
       "    <tr>\n",
       "      <th>3</th>\n",
       "      <td>3</td>\n",
       "      <td>5.0</td>\n",
       "      <td>The movie is okay, mediocre might even be the ...</td>\n",
       "      <td>Waiting to Exhale</td>\n",
       "      <td>O filme é bom, medíocre pode até ser a palavra...</td>\n",
       "      <td>['Comedy', 'Drama', 'Romance']</td>\n",
       "      <td>Based on Terry McMillan's novel, this film fol...</td>\n",
       "      <td>anticipation</td>\n",
       "    </tr>\n",
       "    <tr>\n",
       "      <th>4</th>\n",
       "      <td>4</td>\n",
       "      <td>5.0</td>\n",
       "      <td>I got an opportunity to see Waiting To Exhale ...</td>\n",
       "      <td>Waiting to Exhale</td>\n",
       "      <td>Tive a oportunidade de ver Waiting To Exhale p...</td>\n",
       "      <td>['Comedy', 'Drama', 'Romance']</td>\n",
       "      <td>Based on Terry McMillan's novel, this film fol...</td>\n",
       "      <td>anticipation</td>\n",
       "    </tr>\n",
       "    <tr>\n",
       "      <th>...</th>\n",
       "      <td>...</td>\n",
       "      <td>...</td>\n",
       "      <td>...</td>\n",
       "      <td>...</td>\n",
       "      <td>...</td>\n",
       "      <td>...</td>\n",
       "      <td>...</td>\n",
       "      <td>...</td>\n",
       "    </tr>\n",
       "    <tr>\n",
       "      <th>46168</th>\n",
       "      <td>46168</td>\n",
       "      <td>10.0</td>\n",
       "      <td>10/10 buying this the second it's out online. ...</td>\n",
       "      <td>Robin Hood</td>\n",
       "      <td>10/10 comprando este no segundo que sai online...</td>\n",
       "      <td>['Drama', 'Action', 'Romance']</td>\n",
       "      <td>Add a Plot</td>\n",
       "      <td>anticipation</td>\n",
       "    </tr>\n",
       "    <tr>\n",
       "      <th>46169</th>\n",
       "      <td>46169</td>\n",
       "      <td>4.0</td>\n",
       "      <td>\"Lady Jayne:Killer\" is a bottom of the barrel ...</td>\n",
       "      <td>Betrayal</td>\n",
       "      <td>\"Lady Jayne: Killer\" é uma parte inferior do f...</td>\n",
       "      <td>['Action', 'Drama', 'Thriller']</td>\n",
       "      <td>Felix and Misela are father and daughter and o...</td>\n",
       "      <td>sadness</td>\n",
       "    </tr>\n",
       "    <tr>\n",
       "      <th>46170</th>\n",
       "      <td>46170</td>\n",
       "      <td>4.0</td>\n",
       "      <td>\"Lady Jayne:Killer\" is a bottom of the barrel ...</td>\n",
       "      <td>Betrayal</td>\n",
       "      <td>\"Lady Jayne: Killer\" é uma parte inferior do f...</td>\n",
       "      <td>['Action', 'Drama', 'Thriller']</td>\n",
       "      <td>After being ditched by long term girlfriend Ge...</td>\n",
       "      <td>sadness</td>\n",
       "    </tr>\n",
       "    <tr>\n",
       "      <th>46171</th>\n",
       "      <td>46171</td>\n",
       "      <td>5.0</td>\n",
       "      <td>As thrillers go, there are a few surprises her...</td>\n",
       "      <td>Betrayal</td>\n",
       "      <td>Como os filmes de suspense, existem algumas su...</td>\n",
       "      <td>['Action', 'Drama', 'Thriller']</td>\n",
       "      <td>Felix and Misela are father and daughter and o...</td>\n",
       "      <td>sadness</td>\n",
       "    </tr>\n",
       "    <tr>\n",
       "      <th>46172</th>\n",
       "      <td>46172</td>\n",
       "      <td>5.0</td>\n",
       "      <td>As thrillers go, there are a few surprises her...</td>\n",
       "      <td>Betrayal</td>\n",
       "      <td>Como os filmes de suspense, existem algumas su...</td>\n",
       "      <td>['Action', 'Drama', 'Thriller']</td>\n",
       "      <td>After being ditched by long term girlfriend Ge...</td>\n",
       "      <td>sadness</td>\n",
       "    </tr>\n",
       "  </tbody>\n",
       "</table>\n",
       "<p>46173 rows × 8 columns</p>\n",
       "</div>"
      ],
      "text/plain": [
       "       Unnamed: 0  Ratings                                            Reviews  \\\n",
       "0               0      3.0  It had some laughs, but overall the motivation...   \n",
       "1               1      4.0  WAITING TO EXHALE Waiting, and waiting, and wa...   \n",
       "2               2      4.0  Angela Basset was good as expected, but Whitne...   \n",
       "3               3      5.0  The movie is okay, mediocre might even be the ...   \n",
       "4               4      5.0  I got an opportunity to see Waiting To Exhale ...   \n",
       "...           ...      ...                                                ...   \n",
       "46168       46168     10.0  10/10 buying this the second it's out online. ...   \n",
       "46169       46169      4.0  \"Lady Jayne:Killer\" is a bottom of the barrel ...   \n",
       "46170       46170      4.0  \"Lady Jayne:Killer\" is a bottom of the barrel ...   \n",
       "46171       46171      5.0  As thrillers go, there are a few surprises her...   \n",
       "46172       46172      5.0  As thrillers go, there are a few surprises her...   \n",
       "\n",
       "              movie_name                                           Resenhas  \\\n",
       "0      Waiting to Exhale  Riu algumas risadas, mas no geral a motivação ...   \n",
       "1      Waiting to Exhale  ESPERANDO PARA EXALAR Esperando, e esperando, ...   \n",
       "2      Waiting to Exhale  Angela Basset foi boa como o esperado, mas Whi...   \n",
       "3      Waiting to Exhale  O filme é bom, medíocre pode até ser a palavra...   \n",
       "4      Waiting to Exhale  Tive a oportunidade de ver Waiting To Exhale p...   \n",
       "...                  ...                                                ...   \n",
       "46168         Robin Hood  10/10 comprando este no segundo que sai online...   \n",
       "46169           Betrayal  \"Lady Jayne: Killer\" é uma parte inferior do f...   \n",
       "46170           Betrayal  \"Lady Jayne: Killer\" é uma parte inferior do f...   \n",
       "46171           Betrayal  Como os filmes de suspense, existem algumas su...   \n",
       "46172           Betrayal  Como os filmes de suspense, existem algumas su...   \n",
       "\n",
       "                                genres  \\\n",
       "0       ['Comedy', 'Drama', 'Romance']   \n",
       "1       ['Comedy', 'Drama', 'Romance']   \n",
       "2       ['Comedy', 'Drama', 'Romance']   \n",
       "3       ['Comedy', 'Drama', 'Romance']   \n",
       "4       ['Comedy', 'Drama', 'Romance']   \n",
       "...                                ...   \n",
       "46168   ['Drama', 'Action', 'Romance']   \n",
       "46169  ['Action', 'Drama', 'Thriller']   \n",
       "46170  ['Action', 'Drama', 'Thriller']   \n",
       "46171  ['Action', 'Drama', 'Thriller']   \n",
       "46172  ['Action', 'Drama', 'Thriller']   \n",
       "\n",
       "                                             Description       emotion  \n",
       "0      Based on Terry McMillan's novel, this film fol...  anticipation  \n",
       "1      Based on Terry McMillan's novel, this film fol...  anticipation  \n",
       "2      Based on Terry McMillan's novel, this film fol...  anticipation  \n",
       "3      Based on Terry McMillan's novel, this film fol...  anticipation  \n",
       "4      Based on Terry McMillan's novel, this film fol...  anticipation  \n",
       "...                                                  ...           ...  \n",
       "46168                                         Add a Plot  anticipation  \n",
       "46169  Felix and Misela are father and daughter and o...       sadness  \n",
       "46170  After being ditched by long term girlfriend Ge...       sadness  \n",
       "46171  Felix and Misela are father and daughter and o...       sadness  \n",
       "46172  After being ditched by long term girlfriend Ge...       sadness  \n",
       "\n",
       "[46173 rows x 8 columns]"
      ]
     },
     "execution_count": 7,
     "metadata": {},
     "output_type": "execute_result"
    }
   ],
   "source": [
    "data"
   ]
  },
  {
   "cell_type": "code",
   "execution_count": 9,
   "metadata": {},
   "outputs": [
    {
     "data": {
      "text/plain": [
       "(46173, 8)"
      ]
     },
     "execution_count": 9,
     "metadata": {},
     "output_type": "execute_result"
    }
   ],
   "source": [
    "data.shape"
   ]
  },
  {
   "cell_type": "code",
   "execution_count": 10,
   "metadata": {},
   "outputs": [],
   "source": [
    "data['emotion_mapped'] = data['emotion'].map(emotion_mapping)\n"
   ]
  },
  {
   "cell_type": "code",
   "execution_count": 11,
   "metadata": {},
   "outputs": [],
   "source": [
    "\n",
    "# Drop rows where emotion mapping failed (invalid or missing emotion labels)\n",
    "df_clean = data.dropna(subset=['emotion_mapped'])  # Drop rows with missing labels\n",
    "df_clean = df_clean[df_clean['emotion_mapped'] >= 0]  # Ensure all labels are valid positive numbers"
   ]
  },
  {
   "cell_type": "code",
   "execution_count": 14,
   "metadata": {},
   "outputs": [
    {
     "data": {
      "text/plain": [
       "array([5., 1., 3., 2., 0., 6.])"
      ]
     },
     "execution_count": 14,
     "metadata": {},
     "output_type": "execute_result"
    }
   ],
   "source": [
    "df_clean['emotion_mapped'].unique()"
   ]
  },
  {
   "cell_type": "code",
   "execution_count": 15,
   "metadata": {},
   "outputs": [],
   "source": [
    "df_sample = df_clean.sample(n=10000, random_state=42)\n"
   ]
  },
  {
   "cell_type": "code",
   "execution_count": 16,
   "metadata": {},
   "outputs": [
    {
     "data": {
      "text/html": [
       "<div>\n",
       "<style scoped>\n",
       "    .dataframe tbody tr th:only-of-type {\n",
       "        vertical-align: middle;\n",
       "    }\n",
       "\n",
       "    .dataframe tbody tr th {\n",
       "        vertical-align: top;\n",
       "    }\n",
       "\n",
       "    .dataframe thead th {\n",
       "        text-align: right;\n",
       "    }\n",
       "</style>\n",
       "<table border=\"1\" class=\"dataframe\">\n",
       "  <thead>\n",
       "    <tr style=\"text-align: right;\">\n",
       "      <th></th>\n",
       "      <th>Unnamed: 0</th>\n",
       "      <th>Ratings</th>\n",
       "      <th>Reviews</th>\n",
       "      <th>movie_name</th>\n",
       "      <th>Resenhas</th>\n",
       "      <th>genres</th>\n",
       "      <th>Description</th>\n",
       "      <th>emotion</th>\n",
       "      <th>emotion_mapped</th>\n",
       "    </tr>\n",
       "  </thead>\n",
       "  <tbody>\n",
       "    <tr>\n",
       "      <th>23435</th>\n",
       "      <td>23435</td>\n",
       "      <td>10.0</td>\n",
       "      <td>First let me say that I am not usually the one...</td>\n",
       "      <td>Tangled</td>\n",
       "      <td>Primeiro, deixe-me dizer que geralmente não so...</td>\n",
       "      <td>['Animation', 'Family']</td>\n",
       "      <td>The magically long-haired Rapunzel has spent h...</td>\n",
       "      <td>joy</td>\n",
       "      <td>3.0</td>\n",
       "    </tr>\n",
       "    <tr>\n",
       "      <th>7570</th>\n",
       "      <td>7570</td>\n",
       "      <td>9.0</td>\n",
       "      <td>In my opinion, SAVING SILVERMAN is a sexy, sed...</td>\n",
       "      <td>Saving Silverman</td>\n",
       "      <td>Na minha opinião, SAVING SILVERMAN é um filme ...</td>\n",
       "      <td>['Comedy', 'Crime', 'Romance']</td>\n",
       "      <td>A pair of buddies conspire to save their best ...</td>\n",
       "      <td>sadness</td>\n",
       "      <td>5.0</td>\n",
       "    </tr>\n",
       "    <tr>\n",
       "      <th>12712</th>\n",
       "      <td>12712</td>\n",
       "      <td>9.0</td>\n",
       "      <td>RUSH is such an enthralling movie!! Amazing di...</td>\n",
       "      <td>Rush</td>\n",
       "      <td>Rush é um filme tão emocionante !! Direção inc...</td>\n",
       "      <td>['Crime', 'Drama']</td>\n",
       "      <td>RUSH is a comedy about six college freshman ru...</td>\n",
       "      <td>joy</td>\n",
       "      <td>3.0</td>\n",
       "    </tr>\n",
       "    <tr>\n",
       "      <th>8064</th>\n",
       "      <td>8064</td>\n",
       "      <td>9.0</td>\n",
       "      <td>I'm amazed by the negative reviews, this movie...</td>\n",
       "      <td>Big Top Pee-wee</td>\n",
       "      <td>Estou impressionado com as críticas negativas,...</td>\n",
       "      <td>['Comedy', 'Family']</td>\n",
       "      <td>Pee-wee Herman is now a small-town farmer with...</td>\n",
       "      <td>joy</td>\n",
       "      <td>3.0</td>\n",
       "    </tr>\n",
       "    <tr>\n",
       "      <th>628</th>\n",
       "      <td>628</td>\n",
       "      <td>10.0</td>\n",
       "      <td>Omg TIFFANY HADDISH is rediculously funny! Any...</td>\n",
       "      <td>Nobody's Fool</td>\n",
       "      <td>Omg TIFFANY HADDISH é ridiculamente engraçado!...</td>\n",
       "      <td>['Drama', 'Comedy']</td>\n",
       "      <td>A woman is released from prison and reunites w...</td>\n",
       "      <td>sadness</td>\n",
       "      <td>5.0</td>\n",
       "    </tr>\n",
       "  </tbody>\n",
       "</table>\n",
       "</div>"
      ],
      "text/plain": [
       "       Unnamed: 0  Ratings                                            Reviews  \\\n",
       "23435       23435     10.0  First let me say that I am not usually the one...   \n",
       "7570         7570      9.0  In my opinion, SAVING SILVERMAN is a sexy, sed...   \n",
       "12712       12712      9.0  RUSH is such an enthralling movie!! Amazing di...   \n",
       "8064         8064      9.0  I'm amazed by the negative reviews, this movie...   \n",
       "628           628     10.0  Omg TIFFANY HADDISH is rediculously funny! Any...   \n",
       "\n",
       "             movie_name                                           Resenhas  \\\n",
       "23435           Tangled  Primeiro, deixe-me dizer que geralmente não so...   \n",
       "7570   Saving Silverman  Na minha opinião, SAVING SILVERMAN é um filme ...   \n",
       "12712              Rush  Rush é um filme tão emocionante !! Direção inc...   \n",
       "8064    Big Top Pee-wee  Estou impressionado com as críticas negativas,...   \n",
       "628       Nobody's Fool  Omg TIFFANY HADDISH é ridiculamente engraçado!...   \n",
       "\n",
       "                               genres  \\\n",
       "23435         ['Animation', 'Family']   \n",
       "7570   ['Comedy', 'Crime', 'Romance']   \n",
       "12712              ['Crime', 'Drama']   \n",
       "8064             ['Comedy', 'Family']   \n",
       "628               ['Drama', 'Comedy']   \n",
       "\n",
       "                                             Description  emotion  \\\n",
       "23435  The magically long-haired Rapunzel has spent h...      joy   \n",
       "7570   A pair of buddies conspire to save their best ...  sadness   \n",
       "12712  RUSH is a comedy about six college freshman ru...      joy   \n",
       "8064   Pee-wee Herman is now a small-town farmer with...      joy   \n",
       "628    A woman is released from prison and reunites w...  sadness   \n",
       "\n",
       "       emotion_mapped  \n",
       "23435             3.0  \n",
       "7570              5.0  \n",
       "12712             3.0  \n",
       "8064              3.0  \n",
       "628               5.0  "
      ]
     },
     "execution_count": 16,
     "metadata": {},
     "output_type": "execute_result"
    }
   ],
   "source": [
    "df_sample.head()"
   ]
  },
  {
   "cell_type": "code",
   "execution_count": 17,
   "metadata": {},
   "outputs": [],
   "source": [
    "vectorizer = TfidfVectorizer(max_features=500)\n",
    "movie_features = vectorizer.fit_transform(df_sample['Reviews']).toarray()"
   ]
  },
  {
   "cell_type": "code",
   "execution_count": 18,
   "metadata": {},
   "outputs": [],
   "source": [
    "true_movie_targets = torch.tensor(df_sample['emotion_mapped'].values, dtype=torch.long)\n"
   ]
  },
  {
   "cell_type": "code",
   "execution_count": 19,
   "metadata": {},
   "outputs": [],
   "source": [
    "num_movies = movie_features.shape[0]"
   ]
  },
  {
   "cell_type": "code",
   "execution_count": 20,
   "metadata": {},
   "outputs": [],
   "source": [
    "edge_index = torch.tensor([[i, i+1] for i in range(num_movies-1)] + [[i+1, i] for i in range(num_movies-1)], dtype=torch.long).t().contiguous()\n"
   ]
  },
  {
   "cell_type": "code",
   "execution_count": 21,
   "metadata": {},
   "outputs": [],
   "source": [
    "x = torch.tensor(movie_features, dtype=torch.float)\n"
   ]
  },
  {
   "cell_type": "code",
   "execution_count": 22,
   "metadata": {},
   "outputs": [
    {
     "name": "stdout",
     "output_type": "stream",
     "text": [
      "Feature matrix shape: torch.Size([10000, 500])\n",
      "Edge index shape: torch.Size([2, 19998])\n",
      "Target tensor shape: torch.Size([10000])\n"
     ]
    }
   ],
   "source": [
    "print(f'Feature matrix shape: {x.shape}')\n",
    "print(f'Edge index shape: {edge_index.shape}')\n",
    "print(f'Target tensor shape: {true_movie_targets.shape}')"
   ]
  },
  {
   "cell_type": "code",
   "execution_count": 23,
   "metadata": {},
   "outputs": [],
   "source": [
    "class EmotionMovieGNN(torch.nn.Module):\n",
    "    def __init__(self, in_channels, hidden_channels, out_channels):\n",
    "        super(EmotionMovieGNN, self).__init__()\n",
    "        # phele GCN layer to propagate node features\n",
    "        self.conv1 = GCNConv(in_channels, hidden_channels)\n",
    "        # dusre GCN layer to propagate hidden features\n",
    "        self.conv2 = GCNConv(hidden_channels, out_channels)\n",
    "        \n",
    "    def forward(self, x, edge_index):\n",
    "        # phele layer of propagation and ReLU activation\n",
    "        x = self.conv1(x, edge_index)\n",
    "        x = F.relu(x)\n",
    "        # dusre layer of propagation\n",
    "        x = self.conv2(x, edge_index)\n",
    "        # softmax to get the ranking probabilities\n",
    "        return F.log_softmax(x, dim=1)"
   ]
  },
  {
   "cell_type": "code",
   "execution_count": 26,
   "metadata": {},
   "outputs": [
    {
     "name": "stdout",
     "output_type": "stream",
     "text": [
      "Epoch 20/1000, Loss: 1.3141859769821167\n",
      "Epoch 40/1000, Loss: 1.2936182022094727\n",
      "Epoch 60/1000, Loss: 1.2737373113632202\n",
      "Epoch 80/1000, Loss: 1.2514879703521729\n",
      "Epoch 100/1000, Loss: 1.2288669347763062\n",
      "Epoch 120/1000, Loss: 1.209092140197754\n",
      "Epoch 140/1000, Loss: 1.192403793334961\n",
      "Epoch 160/1000, Loss: 1.1790955066680908\n",
      "Epoch 180/1000, Loss: 1.1693499088287354\n",
      "Epoch 200/1000, Loss: 1.162306547164917\n",
      "Epoch 220/1000, Loss: 1.1568641662597656\n",
      "Epoch 240/1000, Loss: 1.1522769927978516\n",
      "Epoch 260/1000, Loss: 1.1479042768478394\n",
      "Epoch 280/1000, Loss: 1.1430401802062988\n",
      "Epoch 300/1000, Loss: 1.1376430988311768\n",
      "Epoch 320/1000, Loss: 1.1316076517105103\n",
      "Epoch 340/1000, Loss: 1.1240293979644775\n",
      "Epoch 360/1000, Loss: 1.1155555248260498\n",
      "Epoch 380/1000, Loss: 1.1047937870025635\n",
      "Epoch 400/1000, Loss: 1.0925304889678955\n",
      "Epoch 420/1000, Loss: 1.080381989479065\n",
      "Epoch 440/1000, Loss: 1.0657545328140259\n",
      "Epoch 460/1000, Loss: 1.0506561994552612\n",
      "Epoch 480/1000, Loss: 1.0366843938827515\n",
      "Epoch 500/1000, Loss: 1.0211966037750244\n",
      "Epoch 520/1000, Loss: 1.0080153942108154\n",
      "Epoch 540/1000, Loss: 0.9923404455184937\n",
      "Epoch 560/1000, Loss: 0.9781186580657959\n",
      "Epoch 580/1000, Loss: 0.9640349745750427\n",
      "Epoch 600/1000, Loss: 0.9503801465034485\n",
      "Epoch 620/1000, Loss: 0.9385839700698853\n",
      "Epoch 640/1000, Loss: 0.9250409007072449\n",
      "Epoch 660/1000, Loss: 0.9150646328926086\n",
      "Epoch 680/1000, Loss: 0.9007242321968079\n",
      "Epoch 700/1000, Loss: 0.891280472278595\n",
      "Epoch 720/1000, Loss: 0.877729594707489\n",
      "Epoch 740/1000, Loss: 0.8709912896156311\n",
      "Epoch 760/1000, Loss: 0.8559244275093079\n",
      "Epoch 780/1000, Loss: 0.8462163209915161\n",
      "Epoch 800/1000, Loss: 0.8372463583946228\n",
      "Epoch 820/1000, Loss: 0.8335129618644714\n",
      "Epoch 840/1000, Loss: 0.8173151016235352\n",
      "Epoch 860/1000, Loss: 0.8088936805725098\n",
      "Epoch 880/1000, Loss: 0.7999729514122009\n",
      "Epoch 900/1000, Loss: 0.7917733192443848\n",
      "Epoch 920/1000, Loss: 0.7816656231880188\n",
      "Epoch 940/1000, Loss: 0.7765354514122009\n",
      "Epoch 960/1000, Loss: 0.764137864112854\n",
      "Epoch 980/1000, Loss: 0.7588502168655396\n",
      "Epoch 1000/1000, Loss: 0.7499809861183167\n"
     ]
    }
   ],
   "source": [
    "in_channels = movie_features.shape[1]\n",
    "hidden_channels = 64\n",
    "out_channels = len(emotion_dict)  \n",
    "\n",
    "model = EmotionMovieGNN(in_channels=in_channels, hidden_channels=hidden_channels, out_channels=out_channels)\n",
    "optimizer = torch.optim.Adam(model.parameters(), lr=0.01)\n",
    "\n",
    "epochs = 1000\n",
    "for epoch in range(epochs):\n",
    "    model.train()\n",
    "    optimizer.zero_grad()\n",
    "    \n",
    "    out = model(x, edge_index)\n",
    "    \n",
    "    loss = F.nll_loss(out, true_movie_targets)\n",
    "    \n",
    "    \n",
    "    loss.backward()\n",
    "    optimizer.step()\n",
    "    \n",
    "    if (epoch + 1) % 20 == 0:\n",
    "        print(f'Epoch {epoch+1}/{epochs}, Loss: {loss.item()}')"
   ]
  },
  {
   "cell_type": "code",
   "execution_count": 28,
   "metadata": {},
   "outputs": [
    {
     "name": "stdout",
     "output_type": "stream",
     "text": [
      "Recommended movies (movie indices): tensor([[3, 5, 0, 2, 1]])\n"
     ]
    }
   ],
   "source": [
    "# Simulate a user input: e.g., the user is feeling sad (emotion ID 5)\n",
    "user_emotion = torch.tensor([1])  # User input emotion as a tensor\n",
    "\n",
    "# Forward pass through the model to get movie recommendations\n",
    "model.eval()\n",
    "with torch.no_grad():\n",
    "    recommendations = model(x, edge_index)\n",
    "\n",
    "# Get the top 5 recommended movies\n",
    "top_k = 5\n",
    "recommended_movies = torch.topk(recommendations[user_emotion], k=top_k)\n",
    "\n",
    "print(\"Recommended movies (movie indices):\", recommended_movies.indices)"
   ]
  },
  {
   "cell_type": "code",
   "execution_count": 30,
   "metadata": {},
   "outputs": [
    {
     "data": {
      "text/plain": [
       "torch.return_types.topk(\n",
       "values=tensor([[ -0.5395,  -0.8829,  -5.7738,  -8.2972, -10.2721]]),\n",
       "indices=tensor([[3, 5, 0, 2, 1]]))"
      ]
     },
     "execution_count": 30,
     "metadata": {},
     "output_type": "execute_result"
    }
   ],
   "source": [
    "recommended_movies"
   ]
  },
  {
   "cell_type": "code",
   "execution_count": 29,
   "metadata": {},
   "outputs": [
    {
     "data": {
      "text/plain": [
       "OrderedDict([('conv1.bias',\n",
       "              tensor([ 0.3490,  0.1933, -0.0786, -0.0607, -0.0863, -0.0618,  0.1168, -0.0607,\n",
       "                      -0.0586, -0.1003, -0.1440,  0.0697, -0.0014, -0.0601,  0.3161, -0.0603,\n",
       "                      -0.0767, -0.1299,  0.0909, -0.0599, -0.0601, -0.0158,  0.0170, -0.0600,\n",
       "                      -0.2862,  0.1964, -0.0601, -0.0600,  0.4440, -0.3759,  0.2561,  0.0535,\n",
       "                       0.2996,  0.3245, -0.1029, -0.2586, -0.0641, -0.0511, -0.0601,  0.0958,\n",
       "                      -0.0600, -0.0311, -0.0601, -0.0160,  0.6396, -0.0603,  0.0380, -0.0591,\n",
       "                      -0.0693, -0.0601, -0.0602, -0.0604, -0.0036, -0.0718, -0.0806,  0.4857,\n",
       "                      -0.0601, -0.0606, -0.0602, -0.3173,  0.0293, -0.0162, -0.0323,  0.2065])),\n",
       "             ('conv1.lin.weight',\n",
       "              tensor([[ 0.8109,  1.2414,  0.3497,  ...,  0.1140,  0.6182, -0.3040],\n",
       "                      [-0.1230,  1.6162,  0.8995,  ..., -0.0705, -0.4928, -0.1893],\n",
       "                      [-0.0645, -0.0285, -0.0701,  ..., -0.1410, -0.0139, -0.1062],\n",
       "                      ...,\n",
       "                      [-0.2610,  1.3013, -0.1800,  ...,  0.1378,  0.1017,  0.6809],\n",
       "                      [ 0.0188, -0.2196, -0.1169,  ...,  0.1157, -0.2485,  0.4035],\n",
       "                      [-0.2437,  2.9442,  0.6031,  ...,  0.4248, -1.6728,  2.1986]])),\n",
       "             ('conv2.bias',\n",
       "              tensor([ 0.0118,  0.0830,  0.3425, -0.0273, -0.1675, -0.0190, -0.0086])),\n",
       "             ('conv2.lin.weight',\n",
       "              tensor([[ 1.8205e-01, -4.6267e+00, -3.1308e-01,  4.4260e-02,  2.0431e-02,\n",
       "                       -2.1613e-01, -8.8519e-01, -2.5574e-02,  1.4795e-02,  2.5166e+00,\n",
       "                       -1.2256e+00,  1.7858e+00,  2.4412e+00, -1.0071e-01, -7.8099e-02,\n",
       "                        9.3427e-02,  3.5342e-01,  1.7969e+00,  3.7080e-01, -3.1366e-01,\n",
       "                       -1.8041e-01, -6.0026e-01, -3.1016e+00, -2.8202e-01, -7.2319e-01,\n",
       "                       -5.2264e-01, -1.9581e-01,  9.9008e-02, -6.8174e-01,  4.3115e+00,\n",
       "                       -2.0806e-01,  1.3470e-01,  2.3230e-01, -4.4212e-01, -4.4279e+00,\n",
       "                       -2.3521e+00,  1.2364e-01, -2.0813e-01, -2.4397e-01,  2.7139e-01,\n",
       "                       -1.6916e-01,  1.0431e-01,  1.2212e-01, -3.6277e-01,  8.5588e-01,\n",
       "                        9.4885e-02, -4.5017e-01, -1.1841e-01, -5.9446e-01, -7.2641e-03,\n",
       "                       -2.2649e-01, -3.1910e-01,  1.8604e+00,  1.6328e+00, -7.6982e-01,\n",
       "                        6.9269e-01,  1.9829e-01, -2.4943e-01, -2.6366e-01,  9.4244e-01,\n",
       "                        2.9046e-01,  8.2205e-01, -1.7291e-01, -3.7788e+00],\n",
       "                      [ 4.1026e-01, -3.9464e+00, -1.2294e-01,  7.9499e-02, -2.0213e-01,\n",
       "                        2.0605e-01, -3.7408e+00,  4.3399e-02, -2.8565e-01, -3.3273e+00,\n",
       "                        2.5186e+00, -7.6529e-01, -4.7679e+00, -8.2103e-02,  8.5683e-02,\n",
       "                        3.9337e-02, -1.3339e-01, -2.6106e+00, -1.2370e+00,  1.9145e-01,\n",
       "                        4.9155e-02,  1.8283e+00, -9.5887e-01, -5.7045e-02, -9.5052e-01,\n",
       "                       -2.2254e-01, -1.5657e-01,  1.5942e-01,  9.0622e-01, -2.5225e+00,\n",
       "                        4.8117e-01,  2.7212e-01, -2.1913e-01,  1.5415e+00,  4.3337e-02,\n",
       "                       -8.0012e-01, -2.6196e-01, -5.2767e-03,  5.3267e-02, -2.3136e-01,\n",
       "                        1.0363e-01, -6.7966e-02,  2.1709e-01,  5.7645e-01,  2.9332e+00,\n",
       "                        8.3431e-02,  1.0382e-01,  7.7294e-02, -4.6359e+00,  7.2554e-02,\n",
       "                        1.4020e-01,  1.9388e-01, -4.9480e+00, -2.8313e+00, -2.2893e+00,\n",
       "                        4.6648e-01, -1.0904e-02,  9.4557e-02, -6.5672e-02,  3.1399e+00,\n",
       "                        6.2706e-01,  3.0064e-01,  4.3453e-01, -1.1031e+00],\n",
       "                      [ 7.1427e-01, -5.6261e-03, -3.3665e-01,  1.4876e-01, -6.5787e-02,\n",
       "                        1.5272e-01,  1.4453e+00, -1.5212e-01, -1.7471e-01, -2.0608e+00,\n",
       "                       -3.4445e+00,  5.7190e-01, -2.8914e-01, -1.0708e-01,  7.9804e-01,\n",
       "                        1.9755e-01,  8.0239e-02, -1.2587e+00,  8.5313e-02,  4.7175e-02,\n",
       "                        1.6774e-01, -1.8943e+00, -8.5248e-01, -2.3234e-02, -1.6286e+00,\n",
       "                        1.0651e+00,  7.4952e-02, -4.7072e-03,  1.0851e+00, -2.3558e+00,\n",
       "                        9.2697e-01,  2.6189e-01,  9.3393e-01,  6.9339e-01, -1.3782e+00,\n",
       "                       -3.2620e+00, -6.5375e-02, -1.7073e-01, -1.0137e-01,  3.4590e-01,\n",
       "                       -2.6725e-03, -1.5995e-01, -1.9810e-01, -2.9777e-01, -5.5421e-01,\n",
       "                       -2.0617e-01,  1.4031e-01,  1.7942e-01, -5.9197e-01,  9.2686e-02,\n",
       "                       -2.0014e-02, -3.1268e-01,  1.7100e+00, -5.7635e+00, -2.9292e+00,\n",
       "                        6.8788e-01,  1.1773e-02,  1.4221e-01, -6.5660e-02, -4.8806e+00,\n",
       "                       -1.3558e-01, -6.3291e-01, -3.6129e-01,  1.5292e+00],\n",
       "                      [ 5.1599e-01,  4.2825e+00, -7.3708e-02, -1.0465e-01,  3.4378e-01,\n",
       "                        1.3576e-01, -3.0109e+00,  2.3444e-01,  2.8612e-01,  1.5594e+00,\n",
       "                        1.5654e+00,  3.7022e-01, -4.0869e+00, -9.0672e-02,  3.5661e-01,\n",
       "                       -1.3478e-01,  1.8754e-01, -7.3667e-01, -1.0196e+00,  2.0754e-01,\n",
       "                       -5.8274e-02,  1.0709e+00, -3.0343e+00, -2.0014e-01,  4.1886e-01,\n",
       "                        9.5943e-02, -2.0796e-01,  3.0210e-01,  8.4798e-02,  1.6606e+00,\n",
       "                       -4.5013e-01, -1.7823e-01, -4.9338e-01,  8.0852e-02,  1.7385e+00,\n",
       "                        1.9537e+00,  1.1871e-02,  2.9950e-01,  2.5116e-01, -4.6035e-01,\n",
       "                        2.3296e-01, -2.2365e-02,  2.1275e-01, -1.9603e-02, -2.6964e-01,\n",
       "                        4.5632e-03, -2.2657e-01,  1.8166e-01,  2.5892e+00, -1.2463e-02,\n",
       "                       -1.2131e-01,  2.1498e-01, -9.4949e-02,  3.8401e+00, -2.1098e+00,\n",
       "                       -1.4055e-01,  7.0426e-02,  3.3631e-01, -1.4677e-01,  2.2071e+00,\n",
       "                        2.3990e-01, -4.6396e-01,  4.4545e-01,  2.5259e+00],\n",
       "                      [-3.3002e-01, -2.9173e-01,  1.7062e-01,  1.9962e-01,  1.0616e-01,\n",
       "                       -6.9101e-03,  5.4435e-02,  1.2222e-01, -5.0233e-02, -2.1376e-01,\n",
       "                        6.2795e-02, -5.2966e-01, -8.9043e-02, -1.8616e-01, -6.5969e-01,\n",
       "                       -8.4593e-02, -1.3849e-02, -3.1726e-01, -5.9045e-01,  1.1079e-01,\n",
       "                        6.0635e-02, -3.8227e-01, -1.9929e-01, -1.5918e-01, -2.9210e-01,\n",
       "                       -3.0595e-01,  1.1623e-01, -3.4655e-01, -6.0503e-01, -4.9226e-01,\n",
       "                       -5.4749e-01, -2.6509e-01, -5.8230e-01, -2.0607e-02, -1.1963e-01,\n",
       "                       -1.8597e-01,  1.1846e-01,  1.8391e-01, -3.3963e-01, -5.2889e-01,\n",
       "                       -5.4897e-03,  7.0995e-02, -8.0484e-02, -5.6292e-01, -5.9435e-01,\n",
       "                        2.1657e-01, -2.3409e-01,  1.8193e-01, -2.9025e-01, -2.6050e-01,\n",
       "                       -2.7000e-01,  3.5350e-02, -2.7693e-01, -4.5067e-02,  5.1883e-04,\n",
       "                       -7.4131e-01, -2.1076e-01,  3.8443e-02, -8.8791e-02, -3.5350e-01,\n",
       "                       -4.1972e-01, -4.6357e-01, -3.3499e-01, -2.7591e-01],\n",
       "                      [-2.5197e-01,  1.1999e-01, -1.5436e-01,  7.6955e-02,  1.2034e-01,\n",
       "                       -2.1155e-01,  2.3080e+00, -1.5283e-01, -1.5846e-01,  1.3658e-01,\n",
       "                        1.1738e+00, -9.1943e-01,  2.6080e+00, -1.1197e-01, -5.6764e-01,\n",
       "                       -1.1727e-01,  5.1630e-02,  8.4484e-01,  3.6111e-01,  1.4406e-01,\n",
       "                        7.3099e-02,  1.5500e-01,  3.2413e+00,  8.6715e-02,  1.4731e+00,\n",
       "                        2.9436e-01, -2.1950e-02, -1.1303e-01,  1.1540e-01, -1.7439e+00,\n",
       "                        2.7935e-01,  4.4820e-01,  1.4027e-01,  4.8733e-01,  1.9686e+00,\n",
       "                        1.6596e+00, -7.1789e-02,  8.4169e-02, -1.1033e-01,  3.7358e-01,\n",
       "                        2.9783e-02,  1.5696e-02,  1.2118e-02,  4.7117e-01, -4.3080e-01,\n",
       "                        3.2489e-02,  3.7201e-01,  2.7595e-01, -3.2761e-01,  8.1670e-02,\n",
       "                       -1.6044e-01, -9.1127e-02, -2.1891e-01,  1.4657e+00,  3.4788e+00,\n",
       "                       -3.4963e-01, -1.3409e-01, -1.9376e-01, -2.0624e-01,  4.8425e-01,\n",
       "                        3.9018e-01,  3.5946e-01,  3.4686e-01, -3.2852e-01],\n",
       "                      [-2.7913e+00,  9.9395e-02,  3.5146e-02, -2.7496e-01, -1.3723e-02,\n",
       "                       -2.6768e-01,  6.4049e-02,  2.2435e-01, -2.8547e-01, -5.3663e-01,\n",
       "                       -1.1968e+00, -3.4080e+00, -8.8264e-01, -1.9631e-01, -5.6349e-02,\n",
       "                       -2.1097e-01, -4.1277e-02,  6.3675e-01,  2.8371e+00,  1.1938e-01,\n",
       "                       -5.1678e-02, -1.0484e+00, -7.7150e-01,  2.2934e-01,  4.0158e-01,\n",
       "                        5.5401e-01, -2.5845e-02,  2.1656e-02,  2.9902e-01, -7.8021e-01,\n",
       "                       -4.2326e-01, -8.7221e-01,  2.4202e-01, -1.9505e+00, -4.2644e-01,\n",
       "                       -1.0308e+00, -2.0798e-01, -7.1765e-02,  1.4202e-01,  4.1610e-01,\n",
       "                        5.1963e-02, -4.1784e-01, -1.2931e-02,  5.2921e-01,  1.1299e+00,\n",
       "                       -2.6723e-01, -9.2376e-01,  2.1673e-01,  1.1039e+00,  1.3987e-01,\n",
       "                       -9.0501e-02, -3.1965e-01, -1.9181e+00, -1.1665e-01, -7.6831e-01,\n",
       "                       -1.4358e+00,  1.3926e-01,  1.2069e-01, -3.9063e-02,  3.4263e-02,\n",
       "                       -1.2677e+00, -9.2058e-01, -7.8428e-01, -1.1205e+00]]))])"
      ]
     },
     "execution_count": 29,
     "metadata": {},
     "output_type": "execute_result"
    }
   ],
   "source": [
    "model.state_dict()"
   ]
  },
  {
   "cell_type": "code",
   "execution_count": 32,
   "metadata": {},
   "outputs": [
    {
     "name": "stdout",
     "output_type": "stream",
     "text": [
      "                                                 Reviews  emotion\n",
      "29128  \"Unrest\" is an overall fun, if pretty flawed f...      joy\n",
      "8064   I'm amazed by the negative reviews, this movie...      joy\n",
      "12712  RUSH is such an enthralling movie!! Amazing di...      joy\n",
      "7570   In my opinion, SAVING SILVERMAN is a sexy, sed...  sadness\n",
      "23435  First let me say that I am not usually the one...      joy\n"
     ]
    }
   ],
   "source": [
    "# Convert tensor to a list of indices\n",
    "recommended_indices = [5, 3, 2, 1, 0]\n",
    "\n",
    "# Fetch the actual movies from the sampled dataset\n",
    "recommended_movies = df_sample.iloc[recommended_indices]\n",
    "\n",
    "# Display the relevant details for the recommended movies\n",
    "print(recommended_movies[['Reviews', 'emotion']])"
   ]
  },
  {
   "cell_type": "code",
   "execution_count": 34,
   "metadata": {},
   "outputs": [
    {
     "name": "stdout",
     "output_type": "stream",
     "text": [
      "Layer                     Input Shape          Output Shape         Param #\n",
      "===========================================================================\n",
      "GCNConv                   Unknown              Unknown              32064\n",
      "GCNConv                   Unknown              Unknown              455\n",
      "===========================================================================\n",
      "Total parameters: 32519\n"
     ]
    }
   ],
   "source": [
    "def model_summary(model):\n",
    "    print(f\"{'Layer':<25} {'Input Shape':<20} {'Output Shape':<20} {'Param #'}\")\n",
    "    print(\"=\"*75)\n",
    "\n",
    "    total_params = 0\n",
    "    for layer in model.children():\n",
    "        layer_name = layer.__class__.__name__\n",
    "        layer_params = sum(p.numel() for p in layer.parameters())\n",
    "        total_params += layer_params\n",
    "        # Assume we don't know the input/output size statically, so we just display the number of parameters\n",
    "        print(f\"{layer_name:<25} {'Unknown':<20} {'Unknown':<20} {layer_params}\")\n",
    "    \n",
    "    print(\"=\"*75)\n",
    "    print(f\"Total parameters: {total_params}\")\n",
    "\n",
    "# Call the model summary function\n",
    "model_summary(model)"
   ]
  },
  {
   "cell_type": "code",
   "execution_count": 37,
   "metadata": {},
   "outputs": [
    {
     "name": "stdout",
     "output_type": "stream",
     "text": [
      "EmotionMovieGNN(\n",
      "  (conv1): GCNConv(500, 64)\n",
      "  (conv2): GCNConv(64, 7)\n",
      ")\n",
      "Total number of trainable parameters: 32519\n"
     ]
    }
   ],
   "source": [
    "# Print the model architecture\n",
    "print(model)\n",
    "\n",
    "# Print total number of parameters\n",
    "total_params = sum(p.numel() for p in model.parameters() if p.requires_grad)\n",
    "print(f\"Total number of trainable parameters: {total_params}\")"
   ]
  },
  {
   "cell_type": "code",
   "execution_count": null,
   "metadata": {},
   "outputs": [],
   "source": []
  }
 ],
 "metadata": {
  "kernelspec": {
   "display_name": "pytorch",
   "language": "python",
   "name": "python3"
  },
  "language_info": {
   "codemirror_mode": {
    "name": "ipython",
    "version": 3
   },
   "file_extension": ".py",
   "mimetype": "text/x-python",
   "name": "python",
   "nbconvert_exporter": "python",
   "pygments_lexer": "ipython3",
   "version": "3.12.4"
  }
 },
 "nbformat": 4,
 "nbformat_minor": 2
}
